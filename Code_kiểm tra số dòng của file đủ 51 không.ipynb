{
 "cells": [
  {
   "cell_type": "markdown",
   "id": "9baab7b1",
   "metadata": {},
   "source": [
    "### ''' mã Python kiểm tra số dòng dữ liệu trong Sheet1 \n",
    "### của mỗi file Excel trong một thư mục, \n",
    "### ghi tên file có số dòng dưới 51 ra:\n",
    "Lưu ý thay đổi giá trị của biến folder_path \n",
    "thành đường dẫn tới thư mục chứa các file Excel'''"
   ]
  },
  {
   "cell_type": "code",
   "execution_count": 3,
   "id": "fe3e3d06",
   "metadata": {},
   "outputs": [
    {
     "name": "stdout",
     "output_type": "stream",
     "text": [
      "CKKQT_SL_page_210.xlsx\n",
      "CKKQT_SL_page_228.xlsx\n",
      "Data_ngoai_BVHNVD_11.xlsx\n"
     ]
    }
   ],
   "source": [
    "import os\n",
    "import openpyxl\n",
    "\n",
    "folder_path = 'D:\\JUPYTER_CKKQT_Modal_SL_va_Data_dong'  # Đường dẫn đến thư mục chứa file Excel\n",
    "\n",
    "# Lặp qua tất cả các file trong thư mục\n",
    "for filename in os.listdir(folder_path):\n",
    "    if filename.endswith('.xlsx'):  # Chỉ xem xét các file có phần mở rộng là .xlsx\n",
    "        file_path = os.path.join(folder_path, filename)\n",
    "        workbook = openpyxl.load_workbook(file_path)\n",
    "        sheet = workbook.active\n",
    "        \n",
    "        # if sheet.max_row == 51:  # Kiểm tra số dòng dữ liệu trong Sheet1 đủ 51 không\n",
    "        if sheet.max_row < 51:  # Kiểm tra số dòng dữ liệu trong Sheet1\n",
    "            print(filename)  # In tên file Excel có số dòng dưới 51\n",
    "\n",
    "        workbook.close()\n"
   ]
  },
  {
   "cell_type": "code",
   "execution_count": null,
   "id": "0b7b5c90",
   "metadata": {},
   "outputs": [],
   "source": []
  }
 ],
 "metadata": {
  "kernelspec": {
   "display_name": "Python 3 (ipykernel)",
   "language": "python",
   "name": "python3"
  },
  "language_info": {
   "codemirror_mode": {
    "name": "ipython",
    "version": 3
   },
   "file_extension": ".py",
   "mimetype": "text/x-python",
   "name": "python",
   "nbconvert_exporter": "python",
   "pygments_lexer": "ipython3",
   "version": "3.10.9"
  }
 },
 "nbformat": 4,
 "nbformat_minor": 5
}
