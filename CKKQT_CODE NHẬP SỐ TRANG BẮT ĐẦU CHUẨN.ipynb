{
 "cells": [
  {
   "cell_type": "code",
   "execution_count": null,
   "id": "a0f49f17",
   "metadata": {},
   "outputs": [],
   "source": [
    "# CODE NHẬP SỐ TRANG BẮT ĐẦU CHUẨN\n",
    "time.sleep(30)\n",
    "# Tìm và click vào phần tử ô input TRANG BẮT ĐẦU\n",
    "input_element = WebDriverWait(driver, 10).until(EC.element_to_be_clickable((By.XPATH, '/html/body/div[1]/div/div/div/div[2]/div[2]/div/div[2]/div/div[2]/div/div/div[2]/ul/li[3]/input')))\n",
    "input_element.click()\n",
    "time.sleep(5)\n",
    "# Xoá nội dung ô nhập liệu\n",
    "input_element.send_keys(Keys.BACKSPACE)\n",
    "time.sleep(3)\n",
    "# Nhập giá trị trang bắt đầu\n",
    "input_element.send_keys(\"3\")\n",
    "time.sleep(5)\n",
    "# Giả lập nhấn phím Enter\n",
    "input_element.send_keys(Keys.ENTER)\n",
    "time.sleep(40)"
   ]
  }
 ],
 "metadata": {
  "kernelspec": {
   "display_name": "Python 3 (ipykernel)",
   "language": "python",
   "name": "python3"
  },
  "language_info": {
   "codemirror_mode": {
    "name": "ipython",
    "version": 3
   },
   "file_extension": ".py",
   "mimetype": "text/x-python",
   "name": "python",
   "nbconvert_exporter": "python",
   "pygments_lexer": "ipython3",
   "version": "3.10.9"
  }
 },
 "nbformat": 4,
 "nbformat_minor": 5
}
