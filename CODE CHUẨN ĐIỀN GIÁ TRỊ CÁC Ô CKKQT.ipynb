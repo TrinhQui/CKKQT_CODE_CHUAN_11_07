{
 "cells": [
  {
   "cell_type": "markdown",
   "id": "e013080b",
   "metadata": {},
   "source": [
    "### Trang CKKQT, không tìm theo xpath, id, class ...\n",
    "#### nó thay đổi sau mỗi lần load. \n",
    "#### Sử dụng phương thức Tìm tất cả các phần tử có class \"row row-space z-div\"\n",
    "#### Kiểm tra nếu có phần tử\n",
    "#### Truy cập vào từng phần tử và thực hiện các thao tác\n",
    "#####   Tìm tất cả các phần tử input bên trong phần tử hiện tại\n",
    "##### Chờ đến khi các phần tử input xuất hiện: for input_element in input_elements:\n",
    "#####                                                                               wait.until(EC.visibility_of(input_element))\n",
    "#####  Thực hiện các thao tác tương ứng với từng hàng\n",
    "##### Trong từng hàng nếu có nhiều phần tử\n",
    "######  Tìm danh sách các phần tử đó bằng class name\n",
    "###### ví dụ : ngay_cong_khai_elements = driver.find_elements(By.CLASS_NAME, \"z-datebox-input\")\n",
    "######  Lấy phần tử thứ 1 trong danh sách\n",
    "###### ngay_cong_khai = ngay_cong_khai_elements[0]\n",
    "###### ngay_cong_khai.clear()\n",
    "###### time.sleep(5\n",
    "##### Tìm danh sách các phần tử \"Đến ngày\" bằng class name\n",
    "##### den_ngay_elements = driver.find_elements(By.CLASS_NAME, \"z-datebox-input\")\n",
    "##### Lấy phần tử thứ 2 trong danh sách\n",
    "##### den_ngay = den_ngay_elements[1]\n",
    "##### den_ngay.clear()\n",
    "#### Thay đổi ngày đến tại đây\n",
    "##### den_ngay.send_keys(\"31/12/2022\")\n",
    "##### time.sleep(5)"
   ]
  },
  {
   "cell_type": "code",
   "execution_count": 66,
   "id": "f5f003ba",
   "metadata": {},
   "outputs": [],
   "source": [
    "# Đây là code chuẩn tìm các hàng 1 2 3 4 5 và điền giá trị tìm kiếm\n",
    "from selenium.webdriver.common.keys import Keys\n",
    "from selenium.webdriver.common.action_chains import ActionChains\n",
    "from selenium import webdriver\n",
    "from selenium.webdriver.common.by import By\n",
    "from selenium.webdriver.support.ui import WebDriverWait\n",
    "from selenium.webdriver.support import expected_conditions as EC\n",
    "import time\n",
    "from bs4 import BeautifulSoup\n",
    "import pandas as pd\n",
    "\n",
    "# Khởi tạo trình điều khiển Firefox\n",
    "driver = webdriver.Firefox()\n",
    "\n",
    "# Mở trang web\n",
    "url = \"https://congkhaiketquathau.moh.gov.vn/Pages/admin/report/TT14/manager/mohVtIvdManager.zul?code=1\"\n",
    "driver.get(url)\n",
    "\n",
    "# Chờ tải đầy đủ trang web (tuỳ thuộc vào trang web)\n",
    "wait = WebDriverWait(driver, 10)\n",
    "wait.until(EC.presence_of_element_located((By.CSS_SELECTOR, \".row.row-space.z-div\")))\n",
    "\n",
    "# Tìm tất cả các phần tử có class \"row row-space z-div\"\n",
    "elements = driver.find_elements(By.CSS_SELECTOR, \".row.row-space.z-div\")\n",
    "\n",
    "# Kiểm tra nếu có phần tử\n",
    "if elements:\n",
    "    # Truy cập vào từng phần tử và thực hiện các thao tác\n",
    "    for index, element in enumerate(elements):\n",
    "        # Tìm tất cả các phần tử input bên trong phần tử hiện tại\n",
    "        input_elements = element.find_elements(By.CSS_SELECTOR, \"input\")\n",
    "\n",
    "        # Chờ đến khi các phần tử input xuất hiện\n",
    "        for input_element in input_elements:\n",
    "            wait.until(EC.visibility_of(input_element))\n",
    "        \n",
    "        # Chờ thêm 1 giây để đảm bảo phần tử tương tác được\n",
    "        time.sleep(1)\n",
    "\n",
    "        # Thực hiện các thao tác tương ứng với từng hàng\n",
    "        if index == 0:\n",
    "            input_elements[0].clear()\n",
    "            input_elements[0].send_keys(\"1\")\n",
    "        elif index == 1:\n",
    "            input_elements[0].clear()\n",
    "            input_elements[0].send_keys(\"2.1\")\n",
    "            input_elements[1].clear()\n",
    "            input_elements[1].send_keys(\"2.2\")\n",
    "        elif index == 2:\n",
    "            input_elements[0].clear()\n",
    "            input_elements[0].send_keys(\"3.1\")\n",
    "            input_elements[1].clear()\n",
    "            input_elements[1].send_keys(\"3.2\")\n",
    "        elif index == 3:\n",
    "            input_elements[0].clear()\n",
    "            input_elements[0].send_keys(\"4.1\")\n",
    "            input_elements[1].clear()\n",
    "            input_elements[1].send_keys(\"4.2\")\n",
    "            time.sleep(5)\n",
    "        elif index == 4:\n",
    "            # Tìm tất cả các phần tử input nested bằng class name\n",
    "            nested_input_elements = driver.find_elements(By.CLASS_NAME, \"z-datebox-input\")\n",
    "            \n",
    "            # Lấy phần tử đầu tiên và thực hiện các thao tác\n",
    "            nested_input_element1 = nested_input_elements[0]\n",
    "            time.sleep(5)\n",
    "            nested_input_element1.clear()\n",
    "            time.sleep(5)\n",
    "            nested_input_element1.send_keys(\"5.1\")\n",
    "            \n",
    "            # Lấy phần tử thứ hai và thực hiện các thao tác\n",
    "            nested_input_element2 = nested_input_elements[1]\n",
    "            nested_input_element2.clear()\n",
    "            nested_input_element2.send_keys(\"5.2\")\n",
    "\n",
    "        time.sleep(1)\n",
    "\n",
    "# Đóng trình duyệt\n",
    "# driver.quit()\n"
   ]
  },
  {
   "cell_type": "code",
   "execution_count": 67,
   "id": "f8d4b7fb",
   "metadata": {},
   "outputs": [
    {
     "name": "stdout",
     "output_type": "stream",
     "text": [
      "Số lượng phần tử có ID 'eFKQq0': 1\n"
     ]
    }
   ],
   "source": [
    "# F12 XEM ID CỦA Ô CẦN CLICK\n",
    "# TẢI FILE HTML của trang web VỀ, QUA CHAT HỎI CÔNG THỨC TÌM CÓ BAO NHIÊU PHẦN TỬ CÓ ID TRÙNG\n",
    "# sử dụng mã sau để đếm số lượng phần tử có ID là \"eFKQq0\" trong file HTML:\n",
    "# lỗi UnicodeDecodeError: 'charmap' codec can't decode byte 0x8d in position 40: character maps to <undefined>\n",
    "# thì chỉnh sửa với encoding UTF-8:\n",
    "\n",
    "from bs4 import BeautifulSoup\n",
    "def count_elements_with_id(html_file, element_id):\n",
    "    with open(html_file, encoding='utf-8') as file:\n",
    "        soup = BeautifulSoup(file, 'html.parser')\n",
    "        elements = soup.find_all(id=element_id)\n",
    "        return len(elements)\n",
    "\n",
    "html_file = r'D:\\JUPYTER_CKKQT_Modal_SL_va_Data_dong\\TIM_PHAN_TU_TUONG_TAC\\CKKQT.HTML'\n",
    "element_id = 'eFKQq0'\n",
    "count = count_elements_with_id(html_file, element_id)\n",
    "print(f\"Số lượng phần tử có ID '{element_id}': {count}\")\n"
   ]
  },
  {
   "cell_type": "code",
   "execution_count": null,
   "id": "8b8af4c2",
   "metadata": {},
   "outputs": [],
   "source": [
    "# Lỗi \"AttributeError: 'WebDriver' object has no attribute 'find_element_by_id'\" \n",
    "# xuất hiện khi phương thức find_element_by_id không được tìm thấy trong đối tượng WebDriver. \n",
    "# Để khắc phục lỗi này, hãy thử sử dụng phương thức find_element \n",
    "# kết hợp với By.ID để tìm phần tử theo ID. \n",
    "\n",
    "# Tìm phần tử input theo ID sử dụng phương pháp chờ\n",
    "# element_id = \"wR7Qq0\"\n",
    "# wait = WebDriverWait(driver, 10)\n",
    "# input_element = wait.until(EC.presence_of_element_located((By.ID, element_id)))\n",
    "\n",
    "# ID của phần tử trên trang web có thể thay đổi mỗi khi trang web được tải lại hoặc được tạo lại động.\n",
    "#Điều này thường xảy ra trong các ứng dụng web sử dụng công nghệ như AJAX, \n",
    "#JavaScript để tạo và cập nhật nội dung trang mà không yêu cầu tải lại trang hoàn toàn.\n",
    "#Để giải quyết vấn đề này, có thể thử tìm phần tử bằng các thuộc tính khác, \n",
    "#chẳng hạn như lớp (class), tên (name), hoặc các đặc điểm khác của phần tử.\n",
    "#Bạn cũng có thể sử dụng các phương pháp tìm kiếm linh hoạt hơn như XPath hoặc \n",
    "#CSS Selector để xác định phần tử"
   ]
  },
  {
   "cell_type": "code",
   "execution_count": null,
   "id": "311dfe38",
   "metadata": {},
   "outputs": [],
   "source": []
  },
  {
   "cell_type": "code",
   "execution_count": null,
   "id": "53ba10d6",
   "metadata": {},
   "outputs": [],
   "source": []
  },
  {
   "cell_type": "code",
   "execution_count": 18,
   "id": "1106c7b9",
   "metadata": {},
   "outputs": [],
   "source": []
  },
  {
   "cell_type": "code",
   "execution_count": null,
   "id": "3bae3de2",
   "metadata": {},
   "outputs": [],
   "source": []
  },
  {
   "cell_type": "code",
   "execution_count": null,
   "id": "e5f54447",
   "metadata": {},
   "outputs": [],
   "source": []
  },
  {
   "cell_type": "code",
   "execution_count": null,
   "id": "31f9ea38",
   "metadata": {},
   "outputs": [],
   "source": []
  },
  {
   "cell_type": "code",
   "execution_count": null,
   "id": "9ba94f03",
   "metadata": {},
   "outputs": [],
   "source": []
  },
  {
   "cell_type": "code",
   "execution_count": null,
   "id": "be64572d",
   "metadata": {},
   "outputs": [],
   "source": []
  },
  {
   "cell_type": "code",
   "execution_count": null,
   "id": "615ecef9",
   "metadata": {},
   "outputs": [],
   "source": []
  },
  {
   "cell_type": "code",
   "execution_count": null,
   "id": "458d4c0b",
   "metadata": {},
   "outputs": [],
   "source": []
  },
  {
   "cell_type": "code",
   "execution_count": 61,
   "id": "aa21f057",
   "metadata": {},
   "outputs": [],
   "source": []
  },
  {
   "cell_type": "code",
   "execution_count": null,
   "id": "8c585a2c",
   "metadata": {},
   "outputs": [],
   "source": []
  },
  {
   "cell_type": "code",
   "execution_count": null,
   "id": "3f2bc1d2",
   "metadata": {},
   "outputs": [],
   "source": []
  },
  {
   "cell_type": "code",
   "execution_count": null,
   "id": "854e57bd",
   "metadata": {},
   "outputs": [],
   "source": []
  }
 ],
 "metadata": {
  "kernelspec": {
   "display_name": "Python 3 (ipykernel)",
   "language": "python",
   "name": "python3"
  },
  "language_info": {
   "codemirror_mode": {
    "name": "ipython",
    "version": 3
   },
   "file_extension": ".py",
   "mimetype": "text/x-python",
   "name": "python",
   "nbconvert_exporter": "python",
   "pygments_lexer": "ipython3",
   "version": "3.10.9"
  }
 },
 "nbformat": 4,
 "nbformat_minor": 5
}
